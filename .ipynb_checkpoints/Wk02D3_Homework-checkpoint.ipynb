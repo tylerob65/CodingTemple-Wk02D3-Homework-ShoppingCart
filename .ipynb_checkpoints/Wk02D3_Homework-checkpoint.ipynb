{
 "cells": [
  {
   "cell_type": "markdown",
   "metadata": {
    "id": "_dbwZ9_ftkx2"
   },
   "source": [
    "# Wk02D3 Homework"
   ]
  },
  {
   "cell_type": "markdown",
   "metadata": {
    "id": "rnVCYaWNtkyZ"
   },
   "source": [
    "# Exercises"
   ]
  },
  {
   "cell_type": "markdown",
   "metadata": {
    "id": "PMNQ6dI9tkyZ"
   },
   "source": [
    "### 1) Build a Shopping Cart <br>\n",
    "<p><b>You can use either lists or dictionaries. The program should have the following capabilities:</b><br><br>\n",
    "1) Takes in input <br>\n",
    "2) Stores user input into a dictionary or list <br>\n",
    "3) The User can add or delete items <br>\n",
    "4) The User can see current shopping list <br>\n",
    "5) The program Loops until user 'quits' <br>\n",
    "6) Upon quiting the program, print out all items in the user's list <br>\n",
    "</p>"
   ]
  },
  {
   "cell_type": "code",
   "execution_count": 3,
   "metadata": {
    "id": "_WFgS4YKtkyZ"
   },
   "outputs": [
    {
     "name": "stdout",
     "output_type": "stream",
     "text": [
      "..................\n",
      "Welcome to TyMart!\n",
      "..................\n",
      "\n",
      "Here are your list of commands...\n",
      "\n",
      "'quit'\n",
      " Enter this to leave TyMart and get a print out of your current shopping cart\n",
      "\n",
      "'show'\n",
      " Shows you your current shopping cart\n",
      "\n",
      "'add'\n",
      " You will be prompted to add an item to your cart\n",
      "\n",
      "'subtract'\n",
      " You will be prompted to subtract an item from your cart\n",
      "\n",
      "'clear\n",
      " You will empty your shopping cart\n",
      "\n",
      "'commands'\n",
      " Lists the commands that you can run\n",
      "\n",
      "\n",
      "What would you like to do next?: \n",
      "quit\n",
      "Leaving so soon?\n",
      "It was nice of you to stop by!\n",
      "Here is what you bought today...\n",
      "\n",
      "You don't have anything in your cart\n",
      "\n",
      "Please come again soon\n"
     ]
    }
   ],
   "source": [
    "from tymart import go_shopping\n",
    "# Function works, but would recommend running file directly from\n",
    "# VS Code terminal. I find the experience is better.\n",
    "\n",
    "go_shopping()"
   ]
  },
  {
   "cell_type": "markdown",
   "metadata": {
    "id": "OFmdSk4JtkyZ"
   },
   "source": [
    "### 2) Create a Module in VS Code and Import It into jupyter notebook <br>\n",
    "<p><b>Module should have the following capabilities:</b><br><br>\n",
    "1) Has a function to calculate the square footage of a house <br>\n",
    "    <b>Reminder of Formula: Length X Width == Area<br>\n",
    "        <hr>\n",
    "2) Has a function to calculate the circumference of a circle <br><br>\n",
    "<b>Program in Jupyter Notebook should take in user input and use imported functions to calculate a circle's circumference or a houses square footage</b>\n",
    "</p>"
   ]
  },
  {
   "cell_type": "code",
   "execution_count": 11,
   "metadata": {
    "id": "q9dOkQZStkyZ"
   },
   "outputs": [
    {
     "name": "stdout",
     "output_type": "stream",
     "text": [
      "Area:  100\n",
      "Circumference:  25.132741228718345\n"
     ]
    }
   ],
   "source": [
    "from ty_functions import get_area, get_circumference\n",
    "\n",
    "length = 5\n",
    "width = 20\n",
    "print(\"Area: \",get_area(length,width))\n",
    "\n",
    "radius = 4\n",
    "print(\"Circumference: \",get_circumference(radius))"
   ]
  }
 ],
 "metadata": {
  "colab": {
   "collapsed_sections": [
    "sXNEqY_PtkyP",
    "qLcuftHjtkyS",
    "CmcdSTb0tkyT",
    "LFv5HdFLtkyU",
    "2gkFJyzytkyX",
    "PMNQ6dI9tkyZ",
    "OFmdSk4JtkyZ"
   ],
   "name": "Wednesday_Lesson_Inclass-Updated-Lecture-Updated2021.ipynb",
   "provenance": []
  },
  "kernelspec": {
   "display_name": "Python 3 (ipykernel)",
   "language": "python",
   "name": "python3"
  },
  "language_info": {
   "codemirror_mode": {
    "name": "ipython",
    "version": 3
   },
   "file_extension": ".py",
   "mimetype": "text/x-python",
   "name": "python",
   "nbconvert_exporter": "python",
   "pygments_lexer": "ipython3",
   "version": "3.9.15"
  }
 },
 "nbformat": 4,
 "nbformat_minor": 1
}
